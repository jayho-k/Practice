{
 "cells": [
  {
   "cell_type": "markdown",
   "id": "eb645468",
   "metadata": {},
   "source": [
    "# Pandas"
   ]
  },
  {
   "cell_type": "code",
   "execution_count": 1,
   "id": "da8d1358",
   "metadata": {},
   "outputs": [],
   "source": [
    "import pandas as pd"
   ]
  },
  {
   "cell_type": "markdown",
   "id": "9272884e",
   "metadata": {},
   "source": [
    "# 1. Series\n",
    "ex) 1월 ~ 4월 평균 온도 데이터 (-20,-10, 10, 20)"
   ]
  },
  {
   "cell_type": "code",
   "execution_count": 7,
   "id": "cb51b8cc",
   "metadata": {
    "scrolled": true
   },
   "outputs": [
    {
     "name": "stdout",
     "output_type": "stream",
     "text": [
      "0   -20\n",
      "1   -10\n",
      "2    10\n",
      "3    20\n",
      "dtype: int64\n"
     ]
    }
   ],
   "source": [
    "temp = pd.Series([-20,-10,10,20])\n",
    "print(temp)"
   ]
  },
  {
   "cell_type": "code",
   "execution_count": 8,
   "id": "dc89f550",
   "metadata": {},
   "outputs": [
    {
     "data": {
      "text/plain": [
       "-20"
      ]
     },
     "execution_count": 8,
     "metadata": {},
     "output_type": "execute_result"
    }
   ],
   "source": [
    "temp[0] # 1월 온도"
   ]
  },
  {
   "cell_type": "markdown",
   "id": "7c9b3d90",
   "metadata": {},
   "source": [
    "# Series 객체 생성(Index 지정)"
   ]
  },
  {
   "cell_type": "code",
   "execution_count": 11,
   "id": "22fe013d",
   "metadata": {},
   "outputs": [
    {
     "name": "stdout",
     "output_type": "stream",
     "text": [
      "1월   -20\n",
      "2월   -10\n",
      "3월    10\n",
      "4월    20\n",
      "dtype: int64\n"
     ]
    }
   ],
   "source": [
    "temp = pd.Series([-20,-10,10,20], index = ['1월','2월','3월','4월'])\n",
    "print(temp)"
   ]
  },
  {
   "cell_type": "code",
   "execution_count": 12,
   "id": "639ac7ae",
   "metadata": {},
   "outputs": [
    {
     "data": {
      "text/plain": [
       "-10"
      ]
     },
     "execution_count": 12,
     "metadata": {},
     "output_type": "execute_result"
    }
   ],
   "source": [
    "temp['2월']"
   ]
  },
  {
   "cell_type": "code",
   "execution_count": null,
   "id": "1145bedc",
   "metadata": {},
   "outputs": [],
   "source": []
  }
 ],
 "metadata": {
  "kernelspec": {
   "display_name": "Python 3 (ipykernel)",
   "language": "python",
   "name": "python3"
  },
  "language_info": {
   "codemirror_mode": {
    "name": "ipython",
    "version": 3
   },
   "file_extension": ".py",
   "mimetype": "text/x-python",
   "name": "python",
   "nbconvert_exporter": "python",
   "pygments_lexer": "ipython3",
   "version": "3.8.12"
  }
 },
 "nbformat": 4,
 "nbformat_minor": 5
}
