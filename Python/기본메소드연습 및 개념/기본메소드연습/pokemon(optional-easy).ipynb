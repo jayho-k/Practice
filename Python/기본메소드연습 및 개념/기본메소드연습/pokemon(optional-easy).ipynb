{
 "cells": [
  {
   "cell_type": "markdown",
   "id": "regional-interval",
   "metadata": {},
   "source": [
    "# Pokemon (선택)\n",
    "\n",
    "> OOP(Object-Oriented-Programming)"
   ]
  },
  {
   "cell_type": "markdown",
   "id": "economic-holly",
   "metadata": {},
   "source": [
    "## 포켓몬\n",
    "\n",
    "> 피카츄를 클래스-인스턴스로 구현하세요.\n",
    ">\n",
    "> 게임을 만든다면 아래와 같이 먼저 기획을 하고 코드로 구현하게 됩니다.\n",
    ">\n",
    "> 우선 아래와 같이 구현해 보고, 추가로 앞서 배운 모든 지식을 활용하여 본인이 원하는 대로 구현 및 수정하세요.\n",
    ">\n",
    "> (선택적 도전과제: 랜덤 모듈, 조건문 그리고 반복문 등을 활용하여 전투를 구현해보세요.)\n",
    "---\n",
    "\n",
    "피카츄를 예시로 \n",
    "\n",
    "**모든** 피카츄는 다음과 같은 속성을 갖습니다. \n",
    "* `name`: 이름\n",
    "\n",
    "\n",
    "* `level`: 레벨\n",
    "    * 레벨은 시작할 때 모두 5 입니다.\n",
    "    \n",
    "    \n",
    "* `hp`: 체력\n",
    "    * 체력은 `level` * 20 입니다.\n",
    "    \n",
    "    \n",
    "* `exp`: 경험치\n",
    "    * 상대방을 쓰러뜨리면 상대방 `level` * 15 를 획득합니다.\n",
    "    * 경험치는 `level` * 100 이 되면, 레벨이 하나 올라가고 0부터 추가 됩니다. \n",
    "\n",
    "**모든** 피카츄는 다음과 같은 행동(메서드)을 할 수 있습니다.\n",
    "\n",
    "\n",
    "* `bark()`: 울기. `'pikachu'` 를 출력합니다.\n",
    "\n",
    "\n",
    "* `body_attack()`: 몸통박치기. 상대방의 hp 를 내 `level` * 5 만큼 차감합니다.\n",
    "\n",
    "\n",
    "* `thousond_volt()`: 십만볼트. 상대방의 hp 를 내 `level` * 7 만큼 차감합니다."
   ]
  },
  {
   "cell_type": "code",
   "execution_count": null,
   "id": "binding-optics",
   "metadata": {},
   "outputs": [],
   "source": [
    "# 아래에 코드를 작성하세요."
   ]
  },
  {
   "cell_type": "code",
   "execution_count": null,
   "id": "constitutional-eleven",
   "metadata": {},
   "outputs": [],
   "source": [
    "# (선택적 도전과제) 전투 코드 예시\n",
    "\n",
    "while 두 포켓몬 중 하나가 쓰러지기 전까지:\n",
    "    1. random을 이용하여 무작위로 공격권 선정\n",
    "    2. 공격권 가진 포켓몬이 상대방 공격!\n",
    "    3. 둘 중 하나가 쓰러질 때까지 1~2번 계속 반복"
   ]
  },
  {
   "cell_type": "code",
   "execution_count": null,
   "id": "impossible-fiction",
   "metadata": {},
   "outputs": [],
   "source": []
  }
 ],
 "metadata": {
  "kernelspec": {
   "display_name": "Python 3",
   "language": "python",
   "name": "python3"
  },
  "language_info": {
   "codemirror_mode": {
    "name": "ipython",
    "version": 3
   },
   "file_extension": ".py",
   "mimetype": "text/x-python",
   "name": "python",
   "nbconvert_exporter": "python",
   "pygments_lexer": "ipython3",
   "version": "3.8.6"
  },
  "toc": {
   "base_numbering": 1,
   "nav_menu": {},
   "number_sections": true,
   "sideBar": true,
   "skip_h1_title": false,
   "title_cell": "Table of Contents",
   "title_sidebar": "Contents",
   "toc_cell": false,
   "toc_position": {},
   "toc_section_display": true,
   "toc_window_display": false
  }
 },
 "nbformat": 4,
 "nbformat_minor": 5
}
