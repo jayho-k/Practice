{
 "cells": [
  {
   "cell_type": "markdown",
   "metadata": {},
   "source": [
    "# Practice 3\n",
    "\n",
    "> 자료 구조 "
   ]
  },
  {
   "cell_type": "markdown",
   "metadata": {},
   "source": [
    "## 회문 판별\n",
    "\n",
    "> 회문 또는 팰린드롬은 거꾸로 읽어도 제대로 읽는 것과 같은 문장이나 낱말, 숫자, 문자열 등을 말한다. \n",
    "> \n",
    "> 입력으로 짧은 영어단어 word가 주어질 때, 해당 단어가 회문이면 True 회문이 아니면 False를 반환하는 함수를 작성하시오.\n",
    "> \n",
    "> 이때, 반복문(`while`)과 재귀 함수를 사용해서 각각 작성하시오.\n",
    "\n",
    "---\n",
    "\n",
    "예시)\n",
    "\n",
    "```python\n",
    "is_pal_while('tomato') #=> False\n",
    "is_pal_while('racecar') #=> True\n",
    "is_pal_recursive('azza') #=> True\n",
    "```"
   ]
  },
  {
   "cell_type": "code",
   "execution_count": 41,
   "metadata": {},
   "outputs": [],
   "source": [
    "# for 문\n",
    "\n",
    "def is_pal_for(wrd):\n",
    "    new_wrd = ''\n",
    "    for i in wrd:\n",
    "        new_wrd = i + new_wrd\n",
    "    \n",
    "    if new_wrd == wrd:\n",
    "        return True\n",
    "\n",
    "    else:\n",
    "        return False\n"
   ]
  },
  {
   "cell_type": "code",
   "execution_count": 42,
   "metadata": {},
   "outputs": [
    {
     "name": "stdout",
     "output_type": "stream",
     "text": [
      "False\n",
      "True\n",
      "True\n"
     ]
    }
   ],
   "source": [
    "print(is_pal_for('tomato'))\n",
    "print(is_pal_for('racecar'))\n",
    "print(is_pal_for('azza'))"
   ]
  },
  {
   "cell_type": "code",
   "execution_count": 43,
   "metadata": {},
   "outputs": [],
   "source": [
    "# while\n",
    "\n",
    "def is_pal_while(wrd):\n",
    "    new_wrd = ''\n",
    "    i = 0\n",
    "    while len(new_wrd) < len(wrd):\n",
    "        \n",
    "        new_wrd = wrd[i] + new_wrd\n",
    "        i += 1\n",
    "\n",
    "    if new_wrd == wrd:\n",
    "        return True\n",
    "\n",
    "    else:\n",
    "        return False\n",
    "        \n"
   ]
  },
  {
   "cell_type": "code",
   "execution_count": 44,
   "metadata": {
    "ExecuteTime": {
     "end_time": "2020-07-22T06:02:28.799426Z",
     "start_time": "2020-07-22T06:02:28.795559Z"
    }
   },
   "outputs": [
    {
     "name": "stdout",
     "output_type": "stream",
     "text": [
      "False\n",
      "True\n",
      "True\n"
     ]
    }
   ],
   "source": [
    "# 해당 코드를 통해 올바른 결과가 나오는지 확인하시오.\n",
    "print(is_pal_while('tomato'))\n",
    "print(is_pal_while('racecar'))\n",
    "print(is_pal_while('azza'))"
   ]
  },
  {
   "cell_type": "code",
   "execution_count": 47,
   "metadata": {},
   "outputs": [],
   "source": [
    "# recursive\n",
    "def is_pal_recursive(word):\n",
    "    \n",
    "    def rever(word):\n",
    "        if len(word) == 1:\n",
    "            return word\n",
    "\n",
    "        else:\n",
    "            return word[-1] + rever(word[:-1])\n",
    "        \n",
    "        \n",
    "    if word == rever(word):\n",
    "        return True\n",
    "    \n",
    "    else:\n",
    "        return False"
   ]
  },
  {
   "cell_type": "code",
   "execution_count": 48,
   "metadata": {
    "ExecuteTime": {
     "end_time": "2020-07-22T05:45:13.268969Z",
     "start_time": "2020-07-22T05:45:13.263708Z"
    }
   },
   "outputs": [
    {
     "name": "stdout",
     "output_type": "stream",
     "text": [
      "False\n",
      "True\n",
      "True\n"
     ]
    }
   ],
   "source": [
    "# 해당 코드를 통해 올바른 결과가 나오는지 확인하시오.\n",
    "print(is_pal_recursive('tomato'))\n",
    "print(is_pal_recursive('racecar'))\n",
    "print(is_pal_recursive('azza'))"
   ]
  },
  {
   "cell_type": "code",
   "execution_count": null,
   "metadata": {},
   "outputs": [],
   "source": []
  }
 ],
 "metadata": {
  "kernelspec": {
   "display_name": "Python 3 (ipykernel)",
   "language": "python",
   "name": "python3"
  },
  "language_info": {
   "codemirror_mode": {
    "name": "ipython",
    "version": 3
   },
   "file_extension": ".py",
   "mimetype": "text/x-python",
   "name": "python",
   "nbconvert_exporter": "python",
   "pygments_lexer": "ipython3",
   "version": "3.9.9"
  },
  "toc": {
   "base_numbering": 1,
   "nav_menu": {},
   "number_sections": true,
   "sideBar": true,
   "skip_h1_title": false,
   "title_cell": "Table of Contents",
   "title_sidebar": "Contents",
   "toc_cell": false,
   "toc_position": {},
   "toc_section_display": true,
   "toc_window_display": false
  }
 },
 "nbformat": 4,
 "nbformat_minor": 4
}
